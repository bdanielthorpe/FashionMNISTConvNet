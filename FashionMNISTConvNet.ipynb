{
  "nbformat": 4,
  "nbformat_minor": 0,
  "metadata": {
    "colab": {
      "name": "FashionMNISTConvNet.ipynb",
      "provenance": [],
      "collapsed_sections": []
    },
    "kernelspec": {
      "name": "python3",
      "display_name": "Python 3"
    },
    "accelerator": "GPU"
  },
  "cells": [
    {
      "cell_type": "code",
      "metadata": {
        "id": "p_JS2uzA2git"
      },
      "source": [
        "import matplotlib.pyplot as plt\n",
        "from keras.datasets import fashion_mnist\n",
        "from sklearn.utils import shuffle\n",
        "from keras.utils import to_categorical\n",
        "from keras.models import Sequential\n",
        "from keras.layers import Dense, Conv2D, Flatten, MaxPool2D, Softmax, Dropout"
      ],
      "execution_count": 1,
      "outputs": []
    },
    {
      "cell_type": "code",
      "metadata": {
        "colab": {
          "base_uri": "https://localhost:8080/"
        },
        "id": "gqE3d6UG2iUr",
        "outputId": "03fb0886-43f4-4e18-d183-8927e9f1c8fe"
      },
      "source": [
        "# Import dataset, which is included in tensorflow\n",
        "(x_train, y_train), (x_test, y_test) = fashion_mnist.load_data()\n",
        "print(x_train.shape, x_test.shape)"
      ],
      "execution_count": 2,
      "outputs": [
        {
          "output_type": "stream",
          "text": [
            "(60000, 28, 28) (10000, 28, 28)\n"
          ],
          "name": "stdout"
        }
      ]
    },
    {
      "cell_type": "code",
      "metadata": {
        "colab": {
          "base_uri": "https://localhost:8080/",
          "height": 316
        },
        "id": "dlsWtywQ5Anz",
        "outputId": "766d9c1c-5f8e-4f24-9bba-8f06ec9691ac"
      },
      "source": [
        "# Examples are 28 x 28 numpy arrays\n",
        "first_example = x_train[0]\n",
        "print(type(first_example))\n",
        "print(first_example.shape)\n",
        "plt.imshow(first_example, interpolation='nearest', cmap=\"gray\")"
      ],
      "execution_count": 3,
      "outputs": [
        {
          "output_type": "stream",
          "text": [
            "<class 'numpy.ndarray'>\n",
            "(28, 28)\n"
          ],
          "name": "stdout"
        },
        {
          "output_type": "execute_result",
          "data": {
            "text/plain": [
              "<matplotlib.image.AxesImage at 0x7fe6a95ba290>"
            ]
          },
          "metadata": {
            "tags": []
          },
          "execution_count": 3
        },
        {
          "output_type": "display_data",
          "data": {
            "image/png": "[encoded data removed]",
            "text/plain": [
              "<Figure size 432x288 with 1 Axes>"
            ]
          },
          "metadata": {
            "tags": [],
            "needs_background": "light"
          }
        }
      ]
    },
    {
      "cell_type": "code",
      "metadata": {
        "id": "RViSodMi95Jo"
      },
      "source": [
        "# Normalize, shuffle and split training data into dev and training sets\n",
        "x_train = x_train/255\n",
        "x_test = x_test/255\n",
        "x_train, y_train = shuffle(x_train, y_train)\n",
        "x_dev, y_dev = x_train[0:10000], y_train[0:10000]\n",
        "x_train, y_train = x_train[10000:60000], y_train[10000:60000]"
      ],
      "execution_count": 4,
      "outputs": []
    },
    {
      "cell_type": "code",
      "metadata": {
        "id": "C86MLkGearQy"
      },
      "source": [
        "# Reshape data to work with tf\n",
        "x_train = x_train.reshape(50000,28,28,1)\n",
        "x_dev = x_dev.reshape(10000,28,28,1)\n",
        "x_test = x_test.reshape(10000,28,28,1)"
      ],
      "execution_count": 5,
      "outputs": []
    },
    {
      "cell_type": "code",
      "metadata": {
        "id": "ufSBvwHZcqcW"
      },
      "source": [
        "# Convert labels to one-hot encoding\n",
        "y_train = to_categorical(y_train)\n",
        "y_dev = to_categorical(y_dev)\n",
        "y_test = to_categorical(y_test)"
      ],
      "execution_count": 6,
      "outputs": []
    },
    {
      "cell_type": "code",
      "metadata": {
        "id": "A6rL_GqJ5GK-"
      },
      "source": [
        "# Define model\n",
        "\n",
        "model = Sequential()\n",
        "model.add(Conv2D(128, 3, activation='relu', input_shape=(28, 28, 1)))\n",
        "model.add(MaxPool2D(pool_size=2, strides=2))\n",
        "model.add(Conv2D(256, 3, activation='relu', padding=\"same\"))\n",
        "model.add(Dropout(0.2))\n",
        "model.add(MaxPool2D(pool_size=2, strides=2))\n",
        "model.add(Conv2D(512, 3, activation='relu', padding=\"same\"))\n",
        "model.add(Dropout(0.2))\n",
        "model.add(MaxPool2D(pool_size=2, strides=2))\n",
        "model.add(Flatten())\n",
        "model.add(Dense(100, activation='relu'))\n",
        "model.add(Dropout(0.4))\n",
        "model.add(Dense(10, activation='softmax'))\n",
        "\n",
        "# Compile model\n",
        "model.compile(optimizer='adam', loss='categorical_crossentropy', metrics=['accuracy'])"
      ],
      "execution_count": 7,
      "outputs": []
    },
    {
      "cell_type": "code",
      "metadata": {
        "colab": {
          "base_uri": "https://localhost:8080/"
        },
        "id": "IeDzeA45aKUI",
        "outputId": "f51fd7a2-e569-466b-bd27-b279cd02fbae"
      },
      "source": [
        "# Train model\n",
        "model.fit(x_train, y_train, validation_data=(x_dev, y_dev), epochs=10)"
      ],
      "execution_count": 8,
      "outputs": [
        {
          "output_type": "stream",
          "text": [
            "Epoch 1/10\n",
            "1563/1563 [==============================] - 16s 8ms/step - loss: 0.7628 - accuracy: 0.7260 - val_loss: 0.3275 - val_accuracy: 0.8707\n",
            "Epoch 2/10\n",
            "1563/1563 [==============================] - 12s 8ms/step - loss: 0.3616 - accuracy: 0.8701 - val_loss: 0.2682 - val_accuracy: 0.8965\n",
            "Epoch 3/10\n",
            "1563/1563 [==============================] - 12s 8ms/step - loss: 0.2978 - accuracy: 0.8912 - val_loss: 0.2419 - val_accuracy: 0.9079\n",
            "Epoch 4/10\n",
            "1563/1563 [==============================] - 12s 8ms/step - loss: 0.2602 - accuracy: 0.9065 - val_loss: 0.2433 - val_accuracy: 0.9067\n",
            "Epoch 5/10\n",
            "1563/1563 [==============================] - 13s 8ms/step - loss: 0.2348 - accuracy: 0.9163 - val_loss: 0.2170 - val_accuracy: 0.9174\n",
            "Epoch 6/10\n",
            "1563/1563 [==============================] - 13s 8ms/step - loss: 0.2068 - accuracy: 0.9251 - val_loss: 0.2329 - val_accuracy: 0.9110\n",
            "Epoch 7/10\n",
            "1563/1563 [==============================] - 13s 8ms/step - loss: 0.1965 - accuracy: 0.9293 - val_loss: 0.2070 - val_accuracy: 0.9223\n",
            "Epoch 8/10\n",
            "1563/1563 [==============================] - 13s 8ms/step - loss: 0.1778 - accuracy: 0.9351 - val_loss: 0.2185 - val_accuracy: 0.9174\n",
            "Epoch 9/10\n",
            "1563/1563 [==============================] - 13s 8ms/step - loss: 0.1621 - accuracy: 0.9387 - val_loss: 0.2191 - val_accuracy: 0.9177\n",
            "Epoch 10/10\n",
            "1563/1563 [==============================] - 13s 8ms/step - loss: 0.1532 - accuracy: 0.9420 - val_loss: 0.2102 - val_accuracy: 0.9242\n"
          ],
          "name": "stdout"
        },
        {
          "output_type": "execute_result",
          "data": {
            "text/plain": [
              "<tensorflow.python.keras.callbacks.History at 0x7fe6a0476810>"
            ]
          },
          "metadata": {
            "tags": []
          },
          "execution_count": 8
        }
      ]
    },
    {
      "cell_type": "code",
      "metadata": {
        "colab": {
          "base_uri": "https://localhost:8080/"
        },
        "id": "GvICZkWpRIwq",
        "outputId": "fd0ad48e-3224-464d-c059-69b65b12de7f"
      },
      "source": [
        "model.evaluate(x_test, y_test)"
      ],
      "execution_count": 9,
      "outputs": [
        {
          "output_type": "stream",
          "text": [
            "313/313 [==============================] - 1s 4ms/step - loss: 0.2227 - accuracy: 0.9198\n"
          ],
          "name": "stdout"
        },
        {
          "output_type": "execute_result",
          "data": {
            "text/plain": [
              "[0.2226790338754654, 0.9197999835014343]"
            ]
          },
          "metadata": {
            "tags": []
          },
          "execution_count": 9
        }
      ]
    },
    {
      "cell_type": "code",
      "metadata": {
        "colab": {
          "base_uri": "https://localhost:8080/",
          "height": 282
        },
        "id": "RrvmaarM-4rV",
        "outputId": "393ea347-f30b-4810-f0aa-bc57f86328ee"
      },
      "source": [
        "# Test some examples as sanity check\n",
        "# Rerun for another example\n",
        "\n",
        "from numpy import squeeze, argmax\n",
        "from random import randint\n",
        "\n",
        "n = randint(0,9999)\n",
        "\n",
        "example = x_test[n]\n",
        "class_names = [\"T-shirt/top\", \"Trouser\", \"Pullover\", \"Dress\", \"Coat\", \"Sandal\", \"Shirt\", \"Sneaker\", \"Bag\", \"Ankle boot\"]\n",
        "\n",
        "plt.imshow(squeeze(example), interpolation='nearest', cmap=\"gray\")\n",
        "print(class_names[argmax(squeeze(model.predict(example.reshape(1, 28, 28, 1))))])"
      ],
      "execution_count": 59,
      "outputs": [
        {
          "output_type": "stream",
          "text": [
            "Sandal\n"
          ],
          "name": "stdout"
        },
        {
          "output_type": "display_data",
          "data": {
            "image/png": "[encoded data removed]",
            "text/plain": [
              "<Figure size 432x288 with 1 Axes>"
            ]
          },
          "metadata": {
            "tags": [],
            "needs_background": "light"
          }
        }
      ]
    },
    {
      "cell_type": "code",
      "metadata": {
        "id": "0maoAWRbQiNF"
      },
      "source": [
        "# Save and download model\n",
        "!mkdir model\n",
        "model.save(\"model/fashionMNISTConvNet\")\n",
        "!zip -r model.zip model\n",
        "from google.colab import files\n",
        "files.download('model.zip')"
      ],
      "execution_count": null,
      "outputs": []
    },
    {
      "cell_type": "code",
      "metadata": {
        "id": "JDXPZnoaivWa"
      },
      "source": [
        "# Accuracy records\n",
        "\n",
        "# model = Sequential()\n",
        "# model.add(Conv2D(128, 3, activation='relu', input_shape=(28, 28, 1)))\n",
        "# model.add(MaxPool2D(pool_size=2, strides=2))\n",
        "# model.add(Conv2D(256, 3, activation='relu', padding=\"same\"))\n",
        "# model.add(Dropout(0.2))\n",
        "# model.add(MaxPool2D(pool_size=2, strides=2))\n",
        "# model.add(Conv2D(512, 3, activation='relu', padding=\"same\"))\n",
        "# model.add(Dropout(0.2))\n",
        "# model.add(MaxPool2D(pool_size=2, strides=2))\n",
        "# model.add(Flatten())\n",
        "# model.add(Dense(100, activation='relu'))\n",
        "# model.add(Dropout(0.4))\n",
        "# model.add(Dense(10, activation='softmax'))\n",
        "# Val accuracy: 0.93\n",
        "# Overfits after 10 epochs\n",
        "\n",
        "# model = Sequential()\n",
        "# model.add(Conv2D(128, 3, activation='relu', input_shape=(28, 28, 1)))\n",
        "# model.add(MaxPool2D(pool_size=2, strides=2))\n",
        "# model.add(Conv2D(256, 3, activation='relu', padding=\"same\"))\n",
        "# model.add(MaxPool2D(pool_size=2, strides=2))\n",
        "# model.add(Conv2D(512, 3, activation='relu', padding=\"same\"))\n",
        "# model.add(MaxPool2D(pool_size=2, strides=2))\n",
        "# model.add(Flatten())\n",
        "# model.add(Dense(100, activation='relu'))\n",
        "# model.add(Dense(10, activation='softmax'))\n",
        "# Epochs: 10\n",
        "# Val accuracy: 0.91\n",
        "# Overfitting training data\n",
        "\n",
        "# model.add(Conv2D(64, 3, activation='relu', input_shape=(28, 28, 1)))\n",
        "# model.add(MaxPool2D(pool_size=2, strides=2))\n",
        "# model.add(Conv2D(128, 3, activation='relu', padding=\"same\"))\n",
        "# model.add(MaxPool2D(pool_size=2, strides=2))\n",
        "# model.add(Conv2D(256, 3, activation='relu', padding=\"same\"))\n",
        "# model.add(MaxPool2D(pool_size=2, strides=2))\n",
        "# model.add(Flatten())\n",
        "# model.add(Dense(100, activation='relu'))\n",
        "# model.add(Dense(10, activation='softmax'))\n",
        "# Epochs: 3\n",
        "# Val accuracy: 0.90\n",
        "\n",
        "# model.add(Conv2D(32, 3, activation='relu', input_shape=(28, 28, 1)))\n",
        "# model.add(MaxPool2D(pool_size=2))\n",
        "# model.add(Conv2D(64, 3, activation='relu', padding=\"same\"))\n",
        "# model.add(MaxPool2D(pool_size=2, strides=2))\n",
        "# model.add(Conv2D(128, 3, activation='relu', padding=\"same\"))\n",
        "# model.add(MaxPool2D(pool_size=2, strides=2))\n",
        "# model.add(Conv2D(256, 2, activation='relu', padding=\"same\"))\n",
        "# model.add(MaxPool2D(pool_size=2, strides=2))\n",
        "# model.add(Flatten())\n",
        "# model.add(Dense(100, activation='relu'))\n",
        "# model.add(Dense(10, activation='softmax'))\n",
        "# Val accuracy: 0.89\n",
        "\n",
        "# Conv2D(32, 3, activation='relu', input_shape=(28, 28, 1))\n",
        "# MaxPooling2D((2, 2))\n",
        "# Conv2D(64, 3, activation='relu')\n",
        "# MaxPooling2D((2, 2))\n",
        "# Conv2D(128, 2, activation='relu')\n",
        "# Flatten()\n",
        "# Dense(100, activation='relu')\n",
        "# Dense(10, activation='softmax')\n",
        "# Val accuracy: 0.89\n",
        "\n",
        "# model.add(Conv2D(32, 3, activation='relu', input_shape=(28, 28, 1)))\n",
        "# model.add(MaxPooling2D((2, 2)))\n",
        "# model.add(Conv2D(64, 3, activation='relu'))\n",
        "# model.add(MaxPooling2D((2, 2)))\n",
        "# model.add(Conv2D(128, 2, activation='relu'))\n",
        "# model.add(Flatten())\n",
        "# model.add(Dense(10, activation='softmax'))\n",
        "# Val accuracy: 0.87\n",
        "\n",
        "# model.add(Conv2D(32, 3, activation='relu', input_shape=(28, 28, 1)))\n",
        "# model.add(MaxPooling2D((2, 2)))\n",
        "# model.add(Conv2D(64, 3, activation='relu'))\n",
        "# model.add(MaxPooling2D((2, 2)))\n",
        "# model.add(Conv2D(128, 2, activation='relu'))\n",
        "# model.add(Flatten())\n",
        "# model.add(Dense(512, activation='relu'))\n",
        "# model.add(Dense(32, activation='relu'))\n",
        "# model.add(Dense(10, activation='softmax'))\n",
        "# Val accuracy: 0.89\n",
        "\n",
        "# model.add(Conv2D(32, 3, activation='relu', input_shape=(28, 28, 1)))\n",
        "# model.add(MaxPooling2D((2, 2)))\n",
        "# model.add(Conv2D(64, 3, activation='relu'))\n",
        "# model.add(MaxPooling2D((2, 2)))\n",
        "# model.add(Conv2D(128, 3, activation='relu'))\n",
        "# model.add(Flatten())\n",
        "# model.add(Dense(100, activation='relu'))\n",
        "# model.add(Dense(10, activation='softmax'))\n",
        "# Val accuracy: 0.89\n",
        "\n",
        "# model.add(Conv2D(32, 3, activation='relu', input_shape=(28, 28, 1)))\n",
        "# model.add(MaxPooling2D((2, 2)))\n",
        "# model.add(Conv2D(64, 3, activation='relu'))\n",
        "# model.add(MaxPooling2D((2, 2)))\n",
        "# model.add(Conv2D(128, 2, activation='relu'))\n",
        "# model.add(MaxPooling2D((2, 2)))\n",
        "# model.add(Flatten())\n",
        "# model.add(Dense(100, activation='relu'))\n",
        "# model.add(Dense(10, activation='softmax'))\n",
        "# Val accuracy: 0.88\n",
        "\n",
        "# model = Sequential()\n",
        "# model.add(Conv2D(32, 3, activation='relu', input_shape=(28, 28, 1)))\n",
        "# model.add(MaxPooling2D((2, 2)))\n",
        "# model.add(Conv2D(64, 3, activation='relu'))\n",
        "# model.add(MaxPooling2D((2, 2)))\n",
        "# model.add(Conv2D(128, 2, activation='relu'))\n",
        "# model.add(Flatten())\n",
        "# model.add(Dense(1000, activation='relu'))\n",
        "# model.add(Dense(10, activation='softmax'))\n",
        "# Val accuracy: 0.87\n",
        "\n",
        "# model.add(Conv2D(32, 3, activation='relu', input_shape=(28, 28, 1)))\n",
        "# model.add(MaxPool2D(pool_size=2, strides=2))\n",
        "# model.add(Conv2D(64, 3, activation='relu'))\n",
        "# model.add(MaxPool2D(pool_size=2, strides=2))\n",
        "# model.add(Conv2D(128, 2, activation='relu'))\n",
        "# model.add(Flatten())\n",
        "# model.add(Dense(100, activation='relu'))\n",
        "# model.add(Dense(10, activation='softmax'))\n",
        "# Val accuracy: 0.88"
      ],
      "execution_count": 12,
      "outputs": []
    }
  ]
}